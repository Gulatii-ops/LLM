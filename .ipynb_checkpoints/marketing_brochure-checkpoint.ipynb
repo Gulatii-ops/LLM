{
 "cells": [
  {
   "cell_type": "code",
   "execution_count": 5,
   "id": "2e04a33b-41a1-4eed-ba7d-01bdd8a77656",
   "metadata": {},
   "outputs": [
    {
     "name": "stdout",
     "output_type": "stream",
     "text": [
      "no change     /opt/anaconda3/condabin/conda\n",
      "no change     /opt/anaconda3/bin/conda\n",
      "no change     /opt/anaconda3/bin/conda-env\n",
      "no change     /opt/anaconda3/bin/activate\n",
      "no change     /opt/anaconda3/bin/deactivate\n",
      "no change     /opt/anaconda3/etc/profile.d/conda.sh\n",
      "no change     /opt/anaconda3/etc/fish/conf.d/conda.fish\n",
      "no change     /opt/anaconda3/shell/condabin/Conda.psm1\n",
      "no change     /opt/anaconda3/shell/condabin/conda-hook.ps1\n",
      "no change     /opt/anaconda3/lib/python3.12/site-packages/xontrib/conda.xsh\n",
      "no change     /opt/anaconda3/etc/profile.d/conda.csh\n",
      "no change     /Users/gulati/.bash_profile\n",
      "No action taken.\n",
      "\n",
      "CondaError: Run 'conda init' before 'conda activate'\n",
      "\n",
      "Installed kernelspec my_llms in /Users/gulati/Library/Jupyter/kernels/my_llms\n"
     ]
    }
   ],
   "source": [
    "!conda init\n",
    "!conda activate my_llms\n",
    "!python -m ipykernel install --user --name=my_llms --display-name=\"Python (my_llms)\""
   ]
  },
  {
   "cell_type": "code",
   "execution_count": null,
   "id": "1723904f-0059-4188-94d7-3eecaa6f44f9",
   "metadata": {},
   "outputs": [],
   "source": []
  }
 ],
 "metadata": {
  "kernelspec": {
   "display_name": "Python (my_llms)",
   "language": "python",
   "name": "my_llms"
  },
  "language_info": {
   "codemirror_mode": {
    "name": "ipython",
    "version": 3
   },
   "file_extension": ".py",
   "mimetype": "text/x-python",
   "name": "python",
   "nbconvert_exporter": "python",
   "pygments_lexer": "ipython3",
   "version": "3.11.12"
  }
 },
 "nbformat": 4,
 "nbformat_minor": 5
}
