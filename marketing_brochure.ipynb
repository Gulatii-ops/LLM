{
 "cells": [
  {
   "cell_type": "markdown",
   "id": "6aa83183-a27d-4184-85b1-a835aebd1b86",
   "metadata": {},
   "source": [
    "# Activate your environment as Kernel"
   ]
  },
  {
   "cell_type": "code",
   "execution_count": 5,
   "id": "2e04a33b-41a1-4eed-ba7d-01bdd8a77656",
   "metadata": {},
   "outputs": [
    {
     "name": "stdout",
     "output_type": "stream",
     "text": [
      "no change     /opt/anaconda3/condabin/conda\n",
      "no change     /opt/anaconda3/bin/conda\n",
      "no change     /opt/anaconda3/bin/conda-env\n",
      "no change     /opt/anaconda3/bin/activate\n",
      "no change     /opt/anaconda3/bin/deactivate\n",
      "no change     /opt/anaconda3/etc/profile.d/conda.sh\n",
      "no change     /opt/anaconda3/etc/fish/conf.d/conda.fish\n",
      "no change     /opt/anaconda3/shell/condabin/Conda.psm1\n",
      "no change     /opt/anaconda3/shell/condabin/conda-hook.ps1\n",
      "no change     /opt/anaconda3/lib/python3.12/site-packages/xontrib/conda.xsh\n",
      "no change     /opt/anaconda3/etc/profile.d/conda.csh\n",
      "no change     /Users/gulati/.bash_profile\n",
      "No action taken.\n",
      "\n",
      "CondaError: Run 'conda init' before 'conda activate'\n",
      "\n",
      "Installed kernelspec my_llms in /Users/gulati/Library/Jupyter/kernels/my_llms\n"
     ]
    }
   ],
   "source": [
    "!conda init\n",
    "!conda activate my_llms\n",
    "!python -m ipykernel install --user --name=my_llms --display-name=\"Python (my_llms)\""
   ]
  },
  {
   "cell_type": "markdown",
   "id": "17b23bad-d3f0-48c3-a7a0-b949ca45a478",
   "metadata": {},
   "source": [
    "### GOAL:\n",
    "Build a tool that infers important and relevant information for a product, creates a marketing brochure for the product, and translates the brochure to another language (based on user input)."
   ]
  },
  {
   "cell_type": "code",
   "execution_count": 1,
   "id": "df3aae59-fce5-405c-8a2c-b11f62778bf7",
   "metadata": {},
   "outputs": [],
   "source": [
    "# imports\n",
    "from dotenv import load_dotenv\n",
    "from bs4 import BeautifulSoup\n",
    "from IPython.display import Markdown, display, update_display\n",
    "import json\n",
    "from openai import OpenAI\n",
    "import os\n",
    "import requests\n",
    "import ollama\n",
    "import signal\n"
   ]
  },
  {
   "cell_type": "code",
   "execution_count": 2,
   "id": "0cbb5065",
   "metadata": {},
   "outputs": [
    {
     "data": {
      "text/plain": [
       "0"
      ]
     },
     "execution_count": 2,
     "metadata": {},
     "output_type": "execute_result"
    }
   ],
   "source": [
    "# define function for timeout for user input\n",
    "\n",
    "def timeout_handler(signum, frame):\n",
    "    raise TimeoutError\n",
    "\n",
    "# Set the signal handler and a 5-second alarm\n",
    "signal.signal(signal.SIGALRM, timeout_handler)\n",
    "signal.alarm(5)"
   ]
  },
  {
   "cell_type": "code",
   "execution_count": 4,
   "id": "db6a3a34",
   "metadata": {},
   "outputs": [
    {
     "name": "stdout",
     "output_type": "stream",
     "text": [
      "# packages in environment at /opt/anaconda3/envs/llms:\n",
      "#\n",
      "# Name                    Version                   Build  Channel\n",
      "ollama                    0.4.7                    pypi_0    pypi\n",
      "\u001b[?2026h\u001b[?25l\u001b[1Gpulling manifest ⠋ \u001b[K\u001b[?25h\u001b[?2026l\u001b[?2026h\u001b[?25l\u001b[1Gpulling manifest ⠙ \u001b[K\u001b[?25h\u001b[?2026l\u001b[?2026h\u001b[?25l\u001b[1Gpulling manifest ⠹ \u001b[K\u001b[?25h\u001b[?2026l\u001b[?2026h\u001b[?25l\u001b[1Gpulling manifest ⠸ \u001b[K\u001b[?25h\u001b[?2026l\u001b[?2026h\u001b[?25l\u001b[1Gpulling manifest ⠼ \u001b[K\u001b[?25h\u001b[?2026l\u001b[?2026h\u001b[?25l\u001b[1Gpulling manifest \u001b[K\n",
      "pulling dde5aa3fc5ff... 100% ▕████████████████▏ 2.0 GB                         \u001b[K\n",
      "pulling 966de95ca8a6... 100% ▕████████████████▏ 1.4 KB                         \u001b[K\n",
      "pulling fcc5a6bec9da... 100% ▕████████████████▏ 7.7 KB                         \u001b[K\n",
      "pulling a70ff7e570d9... 100% ▕████████████████▏ 6.0 KB                         \u001b[K\n",
      "pulling 56bb8bd477a5... 100% ▕████████████████▏   96 B                         \u001b[K\n",
      "pulling 34bb5ab01051... 100% ▕████████████████▏  561 B                         \u001b[K\n",
      "verifying sha256 digest \u001b[K\n",
      "writing manifest \u001b[K\n",
      "success \u001b[K\u001b[?25h\u001b[?2026l\n"
     ]
    }
   ],
   "source": [
    "!conda list ollama\n",
    "!ollama pull llama3.2"
   ]
  },
  {
   "cell_type": "code",
   "execution_count": 5,
   "id": "0e82ab46-c5b9-4421-8868-424f77eacbee",
   "metadata": {},
   "outputs": [],
   "source": [
    "# constants\n",
    "\n",
    "OLLAMA_API = \"http://localhost:11434/api/chat\"\n",
    "HEADERS = {\"Content-Type\": \"application/json\"}\n",
    "\n",
    "MODEL_GPT = 'gpt-4o-mini'\n",
    "MODEL_LLAMA = 'llama3.2'"
   ]
  },
  {
   "cell_type": "code",
   "execution_count": 6,
   "id": "efbfb681-9cda-4a62-9de7-b82eccec6e61",
   "metadata": {},
   "outputs": [
    {
     "name": "stdout",
     "output_type": "stream",
     "text": [
      "API key looks fine\n"
     ]
    }
   ],
   "source": [
    "# set up environment\n",
    "load_dotenv(override=True)\n",
    "api_key = os.getenv('OPENAI_API_KEY')\n",
    "\n",
    "if api_key and api_key.startswith('sk-proj-') and len(api_key)>10:\n",
    "    print('API key looks fine')\n",
    "else:\n",
    "    print('Somehting is wrong with the API key.')\n",
    "\n",
    "openai = OpenAI()"
   ]
  },
  {
   "cell_type": "code",
   "execution_count": 7,
   "id": "313e49b5-556c-4706-893a-ff2daa34fca8",
   "metadata": {},
   "outputs": [],
   "source": [
    "# A class to represent a Webpage\n",
    "\n",
    "# Some websites need you to use proper headers when fetching them:\n",
    "headers = {\n",
    " \"User-Agent\": \"Mozilla/5.0 (Windows NT 10.0; Win64; x64) AppleWebKit/537.36 (KHTML, like Gecko) Chrome/117.0.0.0 Safari/537.36\"\n",
    "}\n",
    "\n",
    "class Website:\n",
    "    \"\"\"\n",
    "    A utility class to represent contents of a Website\n",
    "    \"\"\"\n",
    "\n",
    "    def __init__(self, url):\n",
    "        self.url = url\n",
    "        response = requests.get(url, headers=headers)\n",
    "        self.body = response.content\n",
    "        soup = BeautifulSoup(self.body, 'html.parser')\n",
    "        self.title = soup.title.string if soup.title else \"No title found\"\n",
    "        if soup.body:\n",
    "            for irrelevant in soup.body([\"script\", \"style\", \"img\", \"input\"]):\n",
    "                irrelevant.decompose()\n",
    "            self.text = soup.body.get_text(separator=\"\\n\", strip=True)\n",
    "        else:\n",
    "            self.text = \"\"\n",
    "\n",
    "    def get_contents(self):\n",
    "        return f\"Webpage Title:\\n{self.title}\\nWebpage Contents:\\n{self.text}\\n\\n\""
   ]
  },
  {
   "cell_type": "code",
   "execution_count": 8,
   "id": "5ca0e12c-29c1-4dae-8d85-80dda01dd820",
   "metadata": {},
   "outputs": [
    {
     "data": {
      "text/plain": [
       "\"Apple\\nStore\\nMac\\niPad\\niPhone\\nWatch\\nVision\\nAirPods\\nTV & Home\\nEntertainment\\nAccessories\\nSupport\\n0\\n+\\nApple Watch Series 10\\nLocal Nav Menu\\nLocal Nav Menu\\nOverview\\nWhy Apple Watch\\nTech Specs\\nBuy\\nApple Watch Series 10\\nGet 3 months of Fitness+ free when you buy any Apple\\xa0Watch.\\n1\\nShop Apple Watch\\nApple Watch Series 10\\nThinstant\\nclassic.\\n*\\nBuy\\nGet the highlights.\\nWatch the\\nApple\\xa0Watch\\xa0Series\\xa010\\nfilm\\nItem 1\\nItem 2\\nItem 3\\nItem 4\\nItem 5\\nThe thinnest Apple\\xa0Watch ever, with our biggest display.\\n3\\nGet invaluable health insights, including sleep apnea notifications.\\n5\\nEnhance your aquatic adventures with depth and water temperature sensors.\\nFastest-charging Apple\\xa0Watch ever.\\n4\\nGet 80% battery in 30 minutes.\\nMotivation on your wrist. Apple\\xa0Watch inspires you to stay active, day after\\xa0day.\\nMonumental display.\\nSeries 10 is a major milestone for Apple\\xa0Watch. It features our\\nbiggest and most advanced display yet\\n,\\n3\\nshowing more information onscreen than ever. With Apple’s first wide-angle OLED Display, the screen is brighter when viewed from an angle, making it easier to read with a quick\\xa0glance.\\nSleek form.\\nSeries\\xa010 is our thinnest watch ever\\n.\\n3\\nTo make this possible, we re-engineered nearly every aspect of it, including the SiP, Digital Crown, speaker, front crystal, and antenna. It all comes together to create a watch that’s packed full of\\xa0innovation.\\nSeries 7, 8, 9\\nSeries 10\\nSeries\\xa010 has the\\nlargest screen area of any Apple\\xa0Watch\\n. It has up to 75% more screen area than Series\\xa03, up to 30% more screen area than Series\\xa04, 5, 6, and SE, and up to 9% more screen area than Series\\xa07, 8, and 9. So you can see and do even\\xa0more.\\nSeries 3\\nSeries 4, 5, 6 | SE\\nSeries 7, 8, 9\\nSeries 10\\nPause\\nPlay\\nReplay\\nJet Black.\\nHi, gloss.\\nFor the first time, Apple\\xa0Watch comes in an eye-catching\\nJet Black aluminum\\n. The case is polished until it’s extremely reflective. It then goes through a 30-step anodization process to create a deep, glossy black that’s truly striking. The result is a timeless, sophisticated\\xa0look.\\nJet Black\\nSilver\\nRose Gold\\nJet Black\\nRose Gold\\nSilver\\nTitanium.\\nPolished to perfection.\\nIn another exciting first, you can choose from\\nthree polished titanium finishes\\nthat are as beautiful as they are tough. They’re made of aerospace-grade titanium that’s polished to a mirror-like shine. With titanium’s remarkable strength-to-weight ratio, Series\\xa010 weighs almost 20% less than Series\\xa09 in stainless steel while still being extremely\\xa0durable.\\nAll titanium finishes\\nSlate\\nNatural\\nGold\\nAll titanium finishes\\nNatural\\nGold\\nSlate\\nHealth insights for\\xa0days. And\\xa0nights.\\nFrom sleep tracking to heart health notifications and much more, the advanced sensors in Series\\xa010 help you better understand your\\xa0health.\\nSleep apnea is a condition where breathing stops repeatedly and causes disrupted sleep. If untreated, it can lead to hypertension, type 2 diabetes, and cardiac issues. You can\\nbe notified if signs of sleep apnea are detected\\nand receive a report that helps you navigate conversations with your healthcare provider.\\n5\\n80%\\nof sleep apnea cases are undiagnosed\\n5\\nSleep on it.\\nGet help setting up a bedtime routine and tracking your sleep. See the time you spent in REM, Core, and Deep sleep, as well as when you might have woken up. You can even get 8 hours of sleep tracking with just an 8‑minute\\xa0charge.\\n6\\nListen to your heart.\\nWith the ECG app, Apple\\xa0Watch Series\\xa010 is capable of generating an ECG similar to a single‑lead electrocardiogram.\\n7\\nAnd with the Heart Rate app, you can get notifications for high and low heart rate as well as an irregular\\xa0rhythm.\\n8\\nVital metrics.\\nThe Vitals app helps you identify changes in your daily health status.\\n9\\nQuickly see your key overnight health metrics right on your wrist — including heart rate, respiratory rate, wrist temperature, and sleep duration.\\nUnderstand your cycle.\\nApple\\xa0Watch has an innovative sensor that tracks your temperature while you sleep.\\n10\\nThe Cycle Tracking app uses this data to provide a retrospective estimate of when you likely ovulated, which can be helpful for family\\xa0planning.\\n11\\nFit for anything.\\nSeries\\xa010 is the perfect fitness partner. It motivates you to stay active, tracks all your workouts, and gives you the metrics you\\xa0need.\\nThe water temperature sensor gives you\\nmore information for your swim workouts\\n. And a depth sensor makes Series\\xa010 great for swimming and snorkeling.\\n12\\nSo go on, make a\\xa0splash.\\nExercise your options.\\nFrom running and strength training to Pilates and dance, Apple\\xa0Watch delivers a healthy number of ways to work out — and all the metrics you could\\xa0want.\\nRun rings around your day.\\nThe Activity app tracks your fitness goals and encourages you to close your Move, Exercise, and Stand rings every day. You can easily pause your Activity rings or adjust your goals for each day of the\\xa0week.\\nWork it out with training load.\\nSee how the intensity and duration of your workouts may impact your body over time. So you can make an educated decision on when to push or when to\\xa0recover.\\nSea the Tides app.\\nCheck conditions for over 115,000 beaches and 5,000 surf spots around the world, including high and low tides, rising and falling tides, and sunrise and\\xa0sunset.\\nYour snorkeling buddy.\\nThe Oceanic+ app on Series\\xa010 has fun snorkeling features.\\n13\\nWhile underwater, you’ll be able to track your time, maximum depth, direction, and other\\xa0metrics.\\nApple\\xa0Watch plus Fitness+.\\nUsing Apple\\xa0Watch with Fitness+ lets you see your real‑time metrics onscreen. And you get the freedom of audio‑guided walks, runs, and meditations when you don’t have your iPhone with\\xa0you.\\nIntelligent ways to stay connected.\\nStay connected to the people and things that you care about most. Cellular lets you keep in touch, even when you don’t have your iPhone nearby.\\n14\\nAnd intelligent features help you stay informed and on top of\\xa0everything.\\nSmarts that stack up.\\nThe Smart\\xa0Stack automatically shows relevant information throughout the day based on time, location, and more. Like if rain is coming. Live\\xa0Activities can keep you updated on things like sports scores or your upcoming\\xa0flight.\\nWords travel fast.\\nThe Translate app automatically adds a widget to your Smart Stack when you’re traveling somewhere a different language is spoken. You can even download languages to your watch so you can use Translate without your iPhone, Wi‑Fi, or a cellular connection.\\n15\\nGo without your phone.\\nTake a call from the trail. Return a text on your run. Cellular lets you leave your phone behind without missing a\\xa0beat.\\n14\\nAlways have money on hand.\\nPay from your wrist with Apple\\xa0Pay,\\n16\\nor send money to friends with Apple\\xa0Cash.\\n17\\nYou can also use the Wallet app as your ID, home key, car key, boarding pass, and transit\\xa0card.\\n18\\nNo more hide and seek.\\nPrecision\\xa0Finding directs you to your iPhone by showing you its distance and direction.\\n19\\nWhen you get close, haptic feedback, an audible chirp, and a visual indicator help you zero in on\\xa0it.\\nHear here.\\nEasily stream music, podcasts, and audiobooks with AirPods. If you don’t have headphones nearby and want to listen to something quickly, you can now play audio through the Apple\\xa0Watch\\xa0speaker.\\nMore apps in a tap.\\nGet access to tens of thousands of apps with the App Store. It’s a great way to customize your watch for whatever you love to\\xa0do.\\nKeep help\\nclose at hand.\\nLife is full of the unexpected. That’s why Apple\\xa0Watch is there to call for help when you need it most. It can even let someone know when you’ve safely made it to a\\xa0destination.\\nNeed help? Apple\\xa0Watch has your back. Just press and hold the side button to\\ncall emergency services and share your\\xa0location\\n.\\n20\\nApple\\xa0Watch can automatically\\ndetect if you’ve taken a hard fall or been in a severe car crash\\n. If you need help, it will call emergency services, share your location, and notify your emergency contacts.\\n20\\nCheck In notifies someone when you arrive at a destination. If you’re going for a run after dark, you can start a\\nCheck In for the duration of your workout\\nto automatically notify a friend when you’re\\xa0done.\\n21\\nDesigned to\\xa0make a\\xa0difference.\\nWhat matters to you matters to Apple, too. From using more recycled materials that minimize environmental impact. To privacy protections that give you more control over your data. To creating built‑in features that make Apple\\xa0Watch accessible to\\xa0all.\\nSeries\\xa010 cases are made with 100% recycled aluminum or 95% recycled titanium. This year, you can configure any Apple\\xa0Watch in\\nany material or finish to be carbon\\xa0neutral\\n.\\n22\\nLearn about Apple and the\\xa0environment\\nYour\\nhealth data stays on your device and is encrypted\\nwhen your Apple\\xa0Watch is locked with a passcode. And it’s never shared without your\\xa0permission.\\nLearn about Apple and\\xa0privacy\\nBuilt-in features like\\nAssistiveTouch, VoiceOver, and wheelchair workouts\\nhelp make Apple\\xa0Watch accessible to\\xa0everyone.\\nLearn about Apple and\\xa0accessibility\\nWhy Apple is the best place to buy Apple\\xa0Watch.\\nShop Apple Watch\\nPay over time, interest‑free.\\nWhen you choose to check out with Apple\\xa0Card Monthly\\xa0Installments.\\n◊\\nWays to Buy\\nApple\\xa0Card Monthly\\xa0Installments\\nPay for your new Apple\\xa0Watch over time, interest‑free with Apple\\xa0Card.\\n◊\\nSimply choose to check out with Apple\\xa0Card Monthly\\xa0Installments as your payment option when you make your purchase. And enjoy 3% Daily Cash back, all up front. Terms apply.\\nLearn more\\nabout Apple Card Monthly Installments\\nSave with Apple\\xa0Trade\\xa0In.\\nGet credit toward your next Apple\\xa0Watch when you trade in an eligible device.\\n2\\nApple\\xa0Trade\\xa0In\\nTrade in your eligible device for\\xa0credit.\\nJust add a trade-in when you choose a new product. Once your eligible device has been received and verified, we’ll credit the value to your payment method. Or choose to check out with Apple\\xa0Card Monthly Installments and we’ll apply the credit instantly. Terms apply.\\nLearn more\\nabout Apple Trade In\\nGet flexible delivery and easy pickup.\\nChoose two-hour delivery from an Apple\\xa0Store, free delivery, or easy pickup options.\\nDelivery and Pickup\\nFlexible delivery and pickup options.\\nGet your new Apple products quickly and easily with two‑hour delivery from an Apple\\xa0Store, free next‑day delivery, or convenient Apple pickup\\xa0options.\\nLearn more\\n, delivery and pickup options\\nShop live with a\\xa0Specialist.\\nLet us guide you live over video\\xa0and answer all of your\\xa0questions.\\nGuided Video Shopping\\nShop live with a\\xa0Specialist.\\nWe can help you choose the product you need while guiding you through the online Apple\\xa0Store. You won’t appear on camera. Available 7 a.m.–7 p.m.\\xa0PT.\\nShop together with a Specialist\\nJoin an online Personal Setup session.\\nTalk one on one with a Specialist to set up your Apple\\xa0Watch and discover new\\xa0features.\\nPersonal Setup\\nJump into online, one‑on‑one sessions.\\nWhen you buy your new Apple\\xa0Watch directly from Apple, you’ll get access to Personal\\xa0Setup. In these online sessions, a Specialist can guide you through setup or focus on features that help you make the most of your watch. Best of all, you can join whenever works for you, from wherever you\\xa0are.\\nLearn more\\nabout Personal Setup\\nExplore a shopping experience designed around\\xa0you.\\nUse the Apple\\xa0Store app for a more personal way to\\xa0shop.\\nApple Store App\\nShop in the Apple Store app, tailored specifically for\\xa0you.\\nGet personalized product recommendations, compare models, access your Saved Items, and track your orders. And opt in today to get updates on new products, promotions, flexible payment options, and store\\xa0events.\\nScan the QR code to get started.\\nDownload the Apple\\xa0Store app\\nKeep exploring Apple\\xa0Watch.\\nExplore all Apple\\xa0Watch\\nApple\\xa0Watch\\nSeries 10\\nApple\\xa0Watch\\nSeries 10\\nThinnest. Biggest display.\\n3\\nAdvanced health features.\\nJet Black aluminum\\nRose Gold aluminum\\nSilver aluminum\\nSlate titanium\\nGold titanium\\nNatural titanium\\n+\\nmore\\n*\\nCurrently Viewing\\n, \\xa0Apple Watch Series 10\\nBuy\\n46mm or 42mm\\naluminum or titanium case\\nWide-angle Always-On Retina display\\nUp to 2000 nits\\nUp to 40% brighter when viewed at an angle\\nS10 SiP\\nDouble tap gesture\\nOn-device Siri with health data access\\nPrecision Finding for iPhone\\n19\\nECG app\\n7\\nHigh and low heart rate notifications\\nIrregular rhythm notifications\\n8\\nLow cardio fitness notifications\\nSleep apnea notifications\\n5\\nUp to 18 hours\\n23\\nUp to 36 hours in Low Power Mode\\n23\\nFast charging\\n4\\nApple\\xa0Watch\\nSE\\nApple\\xa0Watch\\nSE\\nAll the essentials.\\nLight on\\xa0price.\\nMidnight aluminum\\nStarlight aluminum\\nSilver aluminum\\n+\\nmore\\n*\\nLearn More\\nBuy\\n44mm or 40mm\\naluminum case\\nRetina display\\nUp to 1000 nits\\n—\\nUp to 40% brighter when viewed at an angle not applicable\\nS8 SiP\\n—\\nDouble tap gesture not applicable\\nSiri\\nFind iPhone\\n—\\nECG App not applicable\\nHigh and low heart rate notifications\\nIrregular rhythm notifications\\n8\\nLow cardio fitness notifications\\n—\\nSleep apnea notifications not applicable\\nUp to 18 hours\\n24\\nLow Power Mode\\n—\\nFast charging not applicable\\nCompare all Apple\\xa0Watch models\\nApple Watch\\nApple Footer\\n*\\nMonthly pricing is available when you select Apple Card Monthly Installments (ACMI) as payment type at checkout at Apple, and is subject to credit approval and credit limit. Financing terms vary by product. Taxes and shipping are not included in ACMI and are subject to your card’s variable APR. See the\\nApple Card Customer Agreement\\nfor more information. ACMI is not available for purchases made online at special storefronts. The last month’s payment for each product will be the product's purchase price, less all other payments at the monthly payment amount. ACMI financing is subject to change at any time for any reason, including but not limited to, installment term lengths and eligible products. See\\nsupport.apple.com/kb/HT211204\\nfor information about upcoming changes to ACMI financing.\\n◊\\nApple\\xa0Card Monthly Installments (ACMI) is a 0% APR payment option that is only available if you select it at checkout in the U.S. for eligible products purchased at Apple\\xa0Store locations,\\napple.com\\n, the Apple\\xa0Store app, or by calling 1‑800‑MY‑APPLE, and is subject to credit approval and credit limit. See\\nsupport.apple.com/102730\\nfor more information about eligible products. Existing customers: See your Customer Agreement for your variable APR. As of January 1, 2025, the variable APR on new Apple\\xa0Card accounts ranges from 18.24% to 28.49%. You must elect to use ACMI at checkout. If you buy an ACMI‑eligible product with a one-time payment on Apple\\xa0Card at checkout, that purchase is subject to your Apple\\xa0Card’s variable APR, not the ACMI 0% APR. Taxes and shipping on items purchased using ACMI are subject to your Apple\\xa0Card’s variable APR, not the ACMI 0% APR. In order to buy an iPhone with ACMI, you must select one of the following carriers: AT&T, Boost Mobile, T‑Mobile, or Verizon. An iPhone purchased with ACMI is always unlocked, so you can switch carriers at any time, subject to your carrier’s terms. ACMI is not available for purchases made online at the following special stores: Apple Employee Purchase Plan; participating corporate Employee Purchase Programs; Apple at Work for small businesses; Government and Veterans and Military Purchase Programs; or on refurbished devices. The last month’s payment for each product will be the product’s purchase price, less all other payments at the monthly payment amount. ACMI is subject to change at any time for any reason, including but not limited to installment term lengths and eligible products. See the\\nApple\\xa0Card Customer Agreement\\nfor more information about\\xa0ACMI.\\nTo access and use all Apple\\xa0Card features and products available only to Apple\\xa0Card users, you must add Apple\\xa0Card to Wallet on an iPhone or iPad that supports and has the latest version of iOS or iPadOS. Apple\\xa0Card is subject to credit approval, available only for qualifying applicants in the United States, and issued by Goldman Sachs Bank USA, Salt Lake City\\xa0Branch.\\nApple\\xa0Payments\\xa0Services\\xa0LLC, a subsidiary of Apple\\xa0Inc., is a service provider of Goldman Sachs Bank USA for Apple\\xa0Card and Savings accounts. Neither Apple\\xa0Inc. nor Apple\\xa0Payments\\xa0Services\\xa0LLC is a\\xa0bank.\\nIf you reside in the U.S. territories, please call Goldman Sachs at 877-255-5923 with questions about Apple\\xa0Card.\\nOffer available to new subscribers who purchase an eligible device after September 7th, 2022. $9.99/month after trial. Only one offer per Apple Account and only one offer per family if you’re part of a Family Sharing group, regardless of the number of devices you or your family purchases. This offer is not available if you or your Family have previously subscribed to Apple Fitness+. Offer good for 3 months after eligible device activation. Plan automatically renews until cancelled. Restrictions and other\\nterms\\napply.\\nTrade-in values will vary based on the condition, year, and configuration of your eligible trade-in device. Not all devices are eligible for credit. You must be at least 18 years old to be eligible to trade in for credit or for an Apple Gift Card. Trade-in value may be applied toward qualifying new device purchase or added to an Apple Gift Card. Actual value awarded is based on receipt of a qualifying device matching the description provided when estimate was made. Sales tax may be assessed on full value of a new device purchase. In-store trade-in requires presentation of a valid photo ID (local law may require saving this information). Offer may not be available in all stores and may vary between in-store and online trade-in. Some stores may have additional requirements. Apple or its trade-in partners reserve the right to refuse or limit quantity of any trade-in transaction for any reason. More details are available from Apple’s trade-in partner for trade-in and recycling of eligible devices. Restrictions and limitations may apply.\\nCompared to previous generations.\\nFast charging is compatible with Apple\\xa0Watch Series\\xa07 or later, including all Ultra models. It is not compatible with any Apple\\xa0Watch\\xa0SE model.\\nThe Sleep Apnea Notification Feature is available on Apple\\xa0Watch Series\\xa09 and later and Ultra\\xa02. It is intended to detect signs of moderate to severe sleep apnea for people 18 years old or older without a diagnosis of sleep apnea.\\nTesting conducted by Apple in August 2024 using preproduction Apple\\xa0Watch Series 10 (GPS) and Apple\\xa0Watch Series 10 (GPS + Cellular), each paired with an iPhone; all devices tested with prerelease software, Apple\\xa0Watch Magnetic Fast Charger to USB-C Cable (Model A2515), and Apple 20W USB-C Power Adapter (Model A2305). Charge time varies with region, settings, initial battery levels, and environmental factors; actual results will vary.\\nThe ECG app is available on Apple\\xa0Watch\\xa0Series\\xa04 and later (excluding Apple\\xa0Watch SE) and can generate an ECG similar to a single-lead electrocardiogram. Intended for use by people 22 years old and over.\\nIrregular rhythm notification requires the latest version of watchOS and iOS. It is not intended for use by people under 22 years old or those who have been previously diagnosed with atrial fibrillation (AFib).\\nThe Vitals app is for wellness purposes only and not for medical use.\\nThe temperature sensing feature is not intended for medical use. Temperature sensing is available only on Apple Watch Series 8 and later and all Apple Watch Ultra models.\\nThe Cycle Tracking app should not be used for birth control or to diagnose a health condition.\\nApple\\xa0Watch Series 10 has a water resistance rating of 50 meters under ISO standard 22810:2010. This means that it may be used for shallow-water activities like snorkeling or swimming in a pool or ocean. Apple\\xa0Watch Series 10 should not be used for scuba diving, waterskiing, or other activities involving high-velocity water or submersion below shallow depth. Water resistance is not a permanent condition and can diminish over time. For additional information see\\nsupport.apple.com/en-us/HT205000\\n.\\nA subscription is required for Oceanic+. Available on the App\\xa0Store. Apple\\xa0Watch Series 10 supports snorkeling to 6 m; Apple\\xa0Watch Ultra 2 supports recreational scuba diving to 40 m. Always follow diving protocols and dive with a companion and have a secondary device.\\nWireless service plan required for cellular service. Contact your service provider for more details. Connection may vary based on network availability. Check\\napple.com/watch/cellular\\nfor participating wireless carriers and eligibility. See\\nsupport.apple.com/HT207578\\nfor additional setup instructions.\\nNot all languages are supported.\\nApple\\xa0Pay is not available in all markets. For a list of Apple\\xa0Pay countries and regions, visit\\nsupport.apple.com/en-us/HT207957\\n.\\nApple\\xa0Cash services are provided by Green Dot Bank, Member FDIC. Apple\\xa0Payments Services\\xa0LLC, a subsidiary of Apple\\xa0Inc., is a service provider of Green Dot Bank for Apple\\xa0Cash accounts. Neither Apple\\xa0Inc. nor Apple\\xa0Payments Services\\xa0LLC is a bank. Learn more about the\\nTerms and Conditions\\n. Only available in the U.S. on eligible devices. To send and receive money with an Apple\\xa0Cash account, you must be 18 and a U.S. resident. If you’re under 18, your family organizer can set up Apple\\xa0Cash for you as part of their Apple\\xa0Cash Family account, but you may not be able to access features that require a supported payment card. Security checks may require more time to make funds available. Apple\\xa0Cash Family accounts can only send or receive up to $2000 within a rolling seven-day period. Tap to Cash transactions can only be used to send or receive up to $2000 within a rolling seven-day period. Other limits apply, see Terms and Conditions for details. To access and use all Apple\\xa0Cash features, you must have an eligible device with Wallet that has the latest version of iOS.\\nOnly available with select partners and locations, and requires eligible device and OS version. See\\napple.com/wallet\\nfor details.\\nRequires an iPhone and Apple\\xa0Watch with second-generation Ultra Wideband chip.\\nEmergency SOS requires a cellular connection or Wi-Fi calling with an internet connection from your Apple\\xa0Watch or nearby iPhone.\\nCheck In requires watchOS\\xa011 or later for the sender and iOS\\xa017 or later for the recipient. Location sharing may not be supported in all regions due to local\\xa0laws.\\nLearn more at\\napple.com/2030\\n.\\nAll-day battery life is based on the following use: 300 time checks, 90 notifications, 15 minutes of app use, and a 60-minute workout with music playback from Apple\\xa0Watch via Bluetooth, over the course of 18 hours; Apple\\xa0Watch Series 10 (GPS) usage includes connection to iPhone via Bluetooth during the entire 18-hour test; Apple\\xa0Watch Series 10 (GPS + Cellular) usage includes a total of 4 hours of LTE connection and 14 hours of connection to iPhone via Bluetooth over the course of 18 hours. Battery life in Low\\xa0Power\\xa0Mode is based on the following use: 600 time checks, 180 notifications, 30 minutes of app use, and a 60-minute workout with music playback from Apple\\xa0Watch via Bluetooth, over the course of 36 hours; Apple\\xa0Watch Series 10 (GPS) usage includes connection to iPhone via Bluetooth during the entire 36-hour test; Apple\\xa0Watch Series 10 (GPS + Cellular) usage includes on-demand LTE connection and 28 hours of connection to iPhone via Bluetooth over the course of 36 hours. Testing conducted by Apple in August 2024 using preproduction Apple\\xa0Watch Series 10 (GPS) and Apple\\xa0Watch Series 10 (GPS + Cellular), each paired with an iPhone; all devices tested with prerelease software. Battery life varies by use, configuration, cellular network, signal strength, and many other factors; actual results will vary.\\nAll-day battery life is based on the following use: 90 time checks, 90 notifications, 45 minutes of app use, and a 60-minute workout with music playback from Apple\\xa0Watch via Bluetooth, over the course of 18 hours; Apple\\xa0Watch\\xa0SE (2nd generation) (GPS) usage includes connection to iPhone via Bluetooth during the entire 18-hour test; Apple\\xa0Watch\\xa0SE (2nd generation) (GPS + Cellular) usage includes a total of 4 hours of LTE connection and 14 hours of connection to iPhone via Bluetooth over the course of 18 hours. Testing conducted by Apple in August 2022 using preproduction Apple\\xa0Watch\\xa0SE (2nd generation) (GPS) and Apple\\xa0Watch\\xa0SE (2nd generation) (GPS + Cellular), each paired with an iPhone; all devices tested with prerelease software. Battery life varies by use, configuration, cellular network, signal strength, and many other factors; actual results will vary.\\nThe ability to measure blood oxygen is no longer available on Apple\\xa0Watch units sold by Apple in the United States beginning January 18, 2024. These are indicated with part numbers ending in LW/A.\\nLearn how to identify your Apple\\xa0Watch\\n.\\nCase and band combinations can be made within collections (Apple\\xa0Watch and Apple\\xa0Watch Hermès) only.\\nApple\\xa0Watch Ultra\\xa02, Apple\\xa0Watch Series\\xa010, and Apple\\xa0Watch\\xa0SE require iPhone\\xa0Xs or later with iOS\\xa018 or later.\\nFeatures are subject to change. Some features, applications, and services may not be available in all regions or all languages. View complete\\nlist\\n.\\nBands subject to availability.\\nApple\\xa0Pay is a service provided by Apple\\xa0Payments Services\\xa0LLC, a subsidiary of Apple\\xa0Inc. Neither Apple\\xa0Inc. nor Apple\\xa0Payments Services\\xa0LLC is a bank. Any card used in Apple\\xa0Pay is offered by the card issuer.\\n\\uf8ff\\nApple\\nWatch\\nApple Watch Series 10\\nShop and Learn\\nShop and Learn\\nStore\\nMac\\niPad\\niPhone\\nWatch\\nVision\\nAirPods\\nTV & Home\\nAirTag\\nAccessories\\nGift Cards\\nApple Wallet\\nApple Wallet\\nWallet\\nApple\\xa0Card\\nApple\\xa0Pay\\nApple\\xa0Cash\\nAccount\\nAccount\\nManage Your Apple Account\\nApple Store Account\\niCloud.com\\nEntertainment\\nEntertainment\\nApple\\xa0One\\nApple\\xa0TV+\\nApple\\xa0Music\\nApple\\xa0Arcade\\nApple\\xa0Fitness+\\nApple\\xa0News+\\nApple Podcasts\\nApple\\xa0Books\\nApp\\xa0Store\\nApple Store\\nApple Store\\nFind a Store\\nGenius Bar\\nToday at Apple\\nGroup Reservations\\nApple Camp\\nApple Store App\\nCertified Refurbished\\nApple\\xa0Trade\\xa0In\\nFinancing\\nCarrier Deals at Apple\\nOrder Status\\nShopping Help\\nFor Business\\nFor Business\\nApple and Business\\nShop for Business\\nFor Education\\nFor Education\\nApple and Education\\nShop for K-12\\nShop for College\\nFor Healthcare\\nFor Healthcare\\nApple in Healthcare\\nMac in Healthcare\\nHealth on Apple\\xa0Watch\\nHealth Records on iPhone and iPad\\nFor Government\\nFor Government\\nShop for Government\\nShop for Veterans and Military\\nApple Values\\nApple Values\\nAccessibility\\nEducation\\nEnvironment\\nInclusion and Diversity\\nPrivacy\\nRacial Equity and Justice\\nSupply Chain\\nAbout Apple\\nAbout Apple\\nNewsroom\\nApple Leadership\\nCareer Opportunities\\nInvestors\\nEthics & Compliance\\nEvents\\nContact Apple\\nMore ways to shop:\\nFind an Apple Store\\nor\\nother retailer\\nnear you.\\nOr call\\n1-800-MY-APPLE\\n(1-800-692-7753).\\nUnited States\\nCopyright ©\\n\\t\\t\\t\\t\\n\\t\\t\\t\\t2025\\n\\t\\t\\t\\t Apple Inc. All rights reserved.\\nPrivacy Policy\\nTerms of Use\\nSales and Refunds\\nLegal\\nSite Map\""
      ]
     },
     "execution_count": 8,
     "metadata": {},
     "output_type": "execute_result"
    }
   ],
   "source": [
    "ed = Website(\"https://www.apple.com/apple-watch-series-10/\")\n",
    "ed.text"
   ]
  },
  {
   "cell_type": "code",
   "execution_count": 9,
   "id": "dfd852ef-a9a7-4e8e-83b3-3a7d78ffe34f",
   "metadata": {},
   "outputs": [],
   "source": [
    "def get_all_details(url):\n",
    "    result = \"Landing page:\\n\"\n",
    "    result += Website(url).get_contents()\n",
    "    return result"
   ]
  },
  {
   "cell_type": "code",
   "execution_count": 10,
   "id": "27e0a00b-7707-45e9-aac6-9531f4d831cf",
   "metadata": {},
   "outputs": [],
   "source": [
    "def get_brochure_user_prompt(product_name, url):\n",
    "    user_prompt = f\"You are looking at a product called: {product_name}\\n\"\n",
    "    user_prompt += f\"Here are the contents of its landing page; use this information to build a short brochure of the product in markdown.\\n\"\n",
    "    user_prompt += get_all_details(url)\n",
    "    user_prompt = user_prompt[:5_000] # Truncate if more than 5,000 characters\n",
    "    return user_prompt"
   ]
  },
  {
   "cell_type": "code",
   "execution_count": 11,
   "id": "c698adaa-0cc0-4d39-aab1-641210e72b98",
   "metadata": {},
   "outputs": [],
   "source": [
    "# System Prompt\n",
    "\n",
    "system_prompt = \"\"\"\n",
    "You are provided with product information found on a webpage. \\\n",
    "You are able to decide which of the text would be most relevant to include in a marketing brochure about the product for prospective customers, \\\n",
    "such as specifications, uniqueness, price, etc. \\\n",
    "Respond in Markdown.\n",
    "\"\"\""
   ]
  },
  {
   "cell_type": "markdown",
   "id": "1fa1d9a2",
   "metadata": {},
   "source": [
    "## With GPT"
   ]
  },
  {
   "cell_type": "code",
   "execution_count": 12,
   "id": "3334e1b5-4de7-4f03-ba97-c59b224f3079",
   "metadata": {},
   "outputs": [],
   "source": [
    "# Funtion for translating brochure to another language\n",
    "def translate_brochure(info, language, model):\n",
    "    print(\"#\" * 50)\n",
    "    print(\"#\" * 20, f\"{language} Version\",  \"#\" * 20)\n",
    "    system_prompt2 = f\"\"\"\n",
    "    Translate the following marketing brochure into {language} language.\n",
    "    Respond in Markdown.\n",
    "    \"\"\"\n",
    "    messages = [\n",
    "                {\"role\": \"system\", \"content\": system_prompt2},\n",
    "                {\"role\": \"user\", \"content\": info}\n",
    "            ]\n",
    "    if model==1:\n",
    "        response = openai.chat.completions.create(\n",
    "            model=MODEL_GPT,\n",
    "            messages = messages,\n",
    "        )\n",
    "        result = response.choices[0].message.content\n",
    "    else:\n",
    "        response = ollama.chat(model=MODEL_LLAMA, messages=messages)\n",
    "        result = response['message']['content']\n",
    "    display(Markdown(result))"
   ]
  },
  {
   "cell_type": "code",
   "execution_count": null,
   "id": "49da49a2-3dd2-4173-a2f7-d187f1eca58a",
   "metadata": {},
   "outputs": [],
   "source": [
    "# Function for creating brochure\n",
    "# Parameters:\n",
    "#   product_name: Name of the product\n",
    "#   url: website url of the product\n",
    "#   model: GPT4 or Ollama; 1 for GPT and 0 for Ollama\n",
    "\n",
    "def create_brochure(product_name, url, model):\n",
    "    try:\n",
    "        language = input(\"Enter language for translation (leave blank if no translation): \")\n",
    "    except TimeoutError:\n",
    "        language=''\n",
    "    messages = [\n",
    "                {\"role\": \"system\", \"content\": system_prompt},\n",
    "                {\"role\": \"user\", \"content\": get_brochure_user_prompt(product_name, url)}\n",
    "            ]\n",
    "    if model==1:\n",
    "        response = openai.chat.completions.create(\n",
    "            model=MODEL_GPT,\n",
    "            messages=messages,\n",
    "        )\n",
    "        result = response.choices[0].message.content\n",
    "    elif model==0:\n",
    "        response = ollama.chat(model=MODEL_LLAMA, messages=messages)\n",
    "        result = response['message']['content']\n",
    "    else:\n",
    "        raise ValueError(\"Unknown model. Please choose 1 for GPT and 0 for Ollama\")\n",
    "\n",
    "    display(Markdown(result))\n",
    "    if language:\n",
    "        translate_brochure(result, language, model)"
   ]
  },
  {
   "cell_type": "code",
   "execution_count": 14,
   "id": "1db20168-9f81-4522-b360-53248bdbd705",
   "metadata": {},
   "outputs": [
    {
     "data": {
      "text/markdown": [
       "**Apple Watch Series 10 Brochure**\n",
       "=====================================\n",
       "\n",
       "**Introduction**\n",
       "\n",
       "Stay connected, motivated, and informed with the latest Apple Watch Series 10. Designed for a healthier you, this watch offers cutting-edge technology, sleek design, and endless possibilities.\n",
       "\n",
       "**Key Features**\n",
       "\n",
       "### **Display**\n",
       "\n",
       "* Largest screen area of any Apple Watch\n",
       "* Brighter display when viewed from an angle\n",
       "* Wide-angle OLED Display for easier reading\n",
       "\n",
       "### **Design**\n",
       "\n",
       "* Thinnest Apple Watch ever\n",
       "* Jet Black aluminum case with a 30-step anodization process\n",
       "* Three polished titanium finishes available (Slate, Natural, Gold)\n",
       "\n",
       "### **Health Insights**\n",
       "\n",
       "* Advanced sensors track sleep apnea notifications and health metrics\n",
       "* ECG app generates an electrocardiogram similar to a single-lead reading\n",
       "* Cycle Tracking app uses temperature data for family planning\n",
       "\n",
       "### **Fitness**\n",
       "\n",
       "* Motivates you to stay active with fitness goals and tracking features\n",
       "* Water temperature sensor and depth sensor for swimming and snorkeling enthusiasts\n",
       "* Activity app tracks workouts, including running, strength training, Pilates, and dance\n",
       "\n",
       "**Technical Specifications**\n",
       "\n",
       "* Processor: New design with improved performance and efficiency\n",
       "* Battery Life: Up to 80% battery in 30 minutes\n",
       "* Display Size: Largest screen area of any Apple Watch\n",
       "* Weight: Almost 20% less than Series 9 in stainless steel\n",
       "\n",
       "**Get Ready to Upgrade Your Fitness Journey**\n",
       "\n",
       "Experience the power of Apple Watch Series 10. Get 3 months of Fitness+ free with your purchase, and discover a healthier you.\n",
       "\n",
       "[Buy Now](insert link)\n",
       "\n",
       "###"
      ],
      "text/plain": [
       "<IPython.core.display.Markdown object>"
      ]
     },
     "metadata": {},
     "output_type": "display_data"
    },
    {
     "name": "stdout",
     "output_type": "stream",
     "text": [
      "##################################################\n",
      "#################### French Version ####################\n"
     ]
    },
    {
     "data": {
      "text/markdown": [
       "**Apple Watch Série 10 - Brochure**\n",
       "=====================================\n",
       "\n",
       "**Introduction**\n",
       "\n",
       "Restez connecté, motivé et informé avec la dernière Apple Watch Série 10. Conçue pour un vous plus sain, cette montre offre une technologie de pointe, une conception élégante et des possibilités infinies.\n",
       "\n",
       "**Caractéristiques clés**\n",
       "\n",
       "### **Affichage**\n",
       "\n",
       "* Superficie d'écran la plus grande de toute montre Apple Watch\n",
       "* Affichage plus brillant lorsqu'il est regardé sous un angle\n",
       "* Écran OLED avec angle large pour une lecture plus facile\n",
       "\n",
       "### **Conception**\n",
       "\n",
       "* Thinner que la Série 9\n",
       "* Cas en aluminium jet black avec un processus d'anodisation à 30 étapes\n",
       "* Trois finitions de titan poli disponibles (Slate, Naturel, Or)\n",
       "\n",
       "### **Insights sur la santé**\n",
       "\n",
       "* Sensoryurs avancés pour détecter les notifications d'apnée et les métriques de santé\n",
       "* Application ECG qui génère un électrocardiogramme similaire à une lecture de single-lead\n",
       "* Application Cycle Tracking qui utilise des données de température pour le planification familiaux\n",
       "\n",
       "### **Fitness**\n",
       "\n",
       "* Incitation à rester actif avec des objectifs et des fonctionnalités de suivi\n",
       "* Sensor d'eau pour la température et le profondeur pour les amateurs de natation et de plongée\n",
       "* Application Activité qui suit les exercices, y compris la course, la renforcement musculaire, le Pilates et la danse\n",
       "\n",
       "**Spécifications techniques**\n",
       "\n",
       "* Procédure : Nouvelle conception avec une performance et une efficacité améliorées\n",
       "* Durée de batterie : Jusqu'à 80% de capacité en 30 minutes\n",
       "* Taille d'écran : Superficie d'écran la plus grande de toute montre Apple Watch\n",
       "* Poids : Presque 20% moins lourd que la Série 9 en acier inoxydable\n",
       "\n",
       "**Prêt à mettre à jour votre parcours de fitness**\n",
       "\n",
       "Expérimenziez la puissance de la montre Apple Watch Série 10. Getz trois mois de Fitness+ gratuit avec votre achat et découvrez un vous plus sain.\n",
       "\n",
       "[Commandez maintenant](insert link)"
      ],
      "text/plain": [
       "<IPython.core.display.Markdown object>"
      ]
     },
     "metadata": {},
     "output_type": "display_data"
    }
   ],
   "source": [
    "create_brochure(\"Apple Watch Series 10\", \"https://www.apple.com/apple-watch-series-10/\",0)"
   ]
  }
 ],
 "metadata": {
  "kernelspec": {
   "display_name": "llms",
   "language": "python",
   "name": "python3"
  },
  "language_info": {
   "codemirror_mode": {
    "name": "ipython",
    "version": 3
   },
   "file_extension": ".py",
   "mimetype": "text/x-python",
   "name": "python",
   "nbconvert_exporter": "python",
   "pygments_lexer": "ipython3",
   "version": "3.11.11"
  }
 },
 "nbformat": 4,
 "nbformat_minor": 5
}
